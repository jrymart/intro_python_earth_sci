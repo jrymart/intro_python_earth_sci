{
 "cells": [
  {
   "cell_type": "code",
   "execution_count": 94,
   "id": "3a2f26f7-a740-42a8-8208-02641b63f074",
   "metadata": {
    "tags": []
   },
   "outputs": [],
   "source": [
    "from osgeo import gdal, osr, ogr\n",
    "import os\n",
    "BAND_DESCRIPTION = {'B1': \"Coastal-Aerosol\",\n",
    "                    'B2': \"Blue\",\n",
    "                    'B3': \"Green\",\n",
    "                    'B4': \"Red\",\n",
    "                    'B5': \"NIR\",\n",
    "                    'B6': \"SWIR-1\",\n",
    "                    'B7': \"SWIR-2\",\n",
    "                    'B8': \"PAN\",\n",
    "                    'B9': \"Cirrus\"}"
   ]
  },
  {
   "cell_type": "markdown",
   "id": "b132b318-58a9-446e-bcef-fb65e675c953",
   "metadata": {
    "tags": []
   },
   "source": [
    "# Cropping a geotiff in python\n",
    "*This is included not as an excercise but as optional exposure to the data processign methods used in preperation for the raster exercise.  This relies on files not provided as a space saving measure, but can be adapted to any landsat tile.*\n",
    "\n",
    "\n",
    "We have some landsat data we want to use in an exercise.  However, the landsat tile we got from earth explorer is very large, over 80 megabytes per image band!  We are using this data for an example, so we want just a subset around boulder.  Lets crop to just that using Python.  We will use a Python library called GDAL (Geospatial Data Abstraction Library) to help us crop the image to just the location we want.\n",
    "\n",
    "First lets open one of the rasters (Landsat Band 2) in gdal:"
   ]
  },
  {
   "cell_type": "code",
   "execution_count": 67,
   "id": "2374ce79-9688-4ecd-af79-26277b0c75e0",
   "metadata": {
    "tags": []
   },
   "outputs": [],
   "source": [
    "band_2=gdal.Open(\"LC08_L2SP_034032_20230711_20230718_02_T1_SR_B2.TIF\")"
   ]
  },
  {
   "cell_type": "markdown",
   "id": "3c3f3ec3-be31-4b22-b214-4ddeb5edaef3",
   "metadata": {},
   "source": [
    "Now that we have the raster loaded as a python object, we can see it's spatial projection:"
   ]
  },
  {
   "cell_type": "code",
   "execution_count": 68,
   "id": "9a69fa4a-6c99-4fa9-a80c-429ffa607de8",
   "metadata": {
    "tags": []
   },
   "outputs": [
    {
     "data": {
      "text/plain": [
       "'PROJCS[\"WGS 84 / UTM zone 13N\",GEOGCS[\"WGS 84\",DATUM[\"WGS_1984\",SPHEROID[\"WGS 84\",6378137,298.257223563,AUTHORITY[\"EPSG\",\"7030\"]],AUTHORITY[\"EPSG\",\"6326\"]],PRIMEM[\"Greenwich\",0,AUTHORITY[\"EPSG\",\"8901\"]],UNIT[\"degree\",0.0174532925199433,AUTHORITY[\"EPSG\",\"9122\"]],AUTHORITY[\"EPSG\",\"4326\"]],PROJECTION[\"Transverse_Mercator\"],PARAMETER[\"latitude_of_origin\",0],PARAMETER[\"central_meridian\",-105],PARAMETER[\"scale_factor\",0.9996],PARAMETER[\"false_easting\",500000],PARAMETER[\"false_northing\",0],UNIT[\"metre\",1,AUTHORITY[\"EPSG\",\"9001\"]],AXIS[\"Easting\",EAST],AXIS[\"Northing\",NORTH],AUTHORITY[\"EPSG\",\"32613\"]]'"
      ]
     },
     "execution_count": 68,
     "metadata": {},
     "output_type": "execute_result"
    }
   ],
   "source": [
    "raster.GetProjection()"
   ]
  },
  {
   "cell_type": "markdown",
   "id": "126b3b8c-a576-4df7-9dff-0ea274bb3f13",
   "metadata": {},
   "source": [
    "There's a lot of information here that may or may not make sense to you depending on how much GIS you've done, but the key part is \"WGS 84 / UTM zone 13N\".  That tells us the coordiante system we'll need to provide our coordinates in for our bounding box that we use to crop.  I went to [OpenStreetMap](https://www.openstreetmap.org) to get the coordinates I want to use to crop, and it gave them to me in latitude and longitude."
   ]
  },
  {
   "cell_type": "code",
   "execution_count": 69,
   "id": "525da6fb-cc89-4266-9b76-d49457f54947",
   "metadata": {
    "tags": []
   },
   "outputs": [],
   "source": [
    "top_left_lat_long = (40.1028,-105.4097)\n",
    "bottom_right_lat_long = (39.9424, -105.1907)"
   ]
  },
  {
   "cell_type": "markdown",
   "id": "a7cdaec1-b670-42be-8b6f-40a3ee687f71",
   "metadata": {},
   "source": [
    "While great for humans, this won't match up with our raster, which is in UTM zone 13.  If we look at the bounding coordinates for our raster, we'll see the numbers totally don't make sense for latitude and longitude.  We can see this information with the GetGeoTransform() function on the raster, which returns (in order):\n",
    "1. The x-coordinate of the upper-left croner of the upper left pixel\n",
    "2. The pixel width (in the units of the coordinate system)\n",
    "3. The row rotation (don't worry about it)\n",
    "4. the y-coordinate of the upper left corner of the upper left pixel\n",
    "5. The column rotation (again, don't worry about it)\n",
    "6. The pixel height (in the units of the coordinate system)"
   ]
  },
  {
   "cell_type": "code",
   "execution_count": 70,
   "id": "058bc1c1-5494-478b-a4c3-4ba360fad5a8",
   "metadata": {
    "tags": []
   },
   "outputs": [
    {
     "data": {
      "text/plain": [
       "(316785.0, 30.0, 0.0, 4583115.0, 0.0, -30.0)"
      ]
     },
     "execution_count": 70,
     "metadata": {},
     "output_type": "execute_result"
    }
   ],
   "source": [
    "band_2.GetGeoTransform()"
   ]
  },
  {
   "cell_type": "markdown",
   "id": "c04ff4a4-2739-4d01-bcb6-6c0e1cfdeec3",
   "metadata": {},
   "source": [
    "This tells us the the upper left of the image is located at point (316785, 4583115) in the UTM zone 13N grid, each pixel is 30 by 30 meters.\n",
    "Now we'll use some GDAL functions to transform the point from latitude/longitude to UTM zone 13.  This is in someways overkill (we could just find an online converter and use that) as it will involve making a geometry object and adding our coordinates, but it will expose us to some GDAL functions.  First we'll make a multi point geometry object"
   ]
  },
  {
   "cell_type": "code",
   "execution_count": 71,
   "id": "fd8ff9ba-4d31-4bf1-8f42-d6536529cff8",
   "metadata": {
    "tags": []
   },
   "outputs": [],
   "source": [
    "points = ogr.Geometry(ogr.wkbMultiPoint)"
   ]
  },
  {
   "cell_type": "markdown",
   "id": "5b613c46-5c06-4777-8fa6-c9a08de9e9cd",
   "metadata": {},
   "source": [
    "Our starting points are geographic Coordiantes in the WGS84 datum.  This has a well known ID number of 4326.  We'll create a spatial reference object with that coordiante system, and set that to our new geometry object"
   ]
  },
  {
   "cell_type": "code",
   "execution_count": 72,
   "id": "accb471a-4b8f-4fba-9327-e3a1212f9323",
   "metadata": {
    "tags": []
   },
   "outputs": [],
   "source": [
    "input_spatial_reference = osr.SpatialReference()"
   ]
  },
  {
   "cell_type": "code",
   "execution_count": 73,
   "id": "aa8e6775-8677-493e-8de6-a6157c924a9f",
   "metadata": {
    "tags": []
   },
   "outputs": [
    {
     "data": {
      "text/plain": [
       "0"
      ]
     },
     "execution_count": 73,
     "metadata": {},
     "output_type": "execute_result"
    }
   ],
   "source": [
    "input_spatial_reference.ImportFromEPSG(4326)"
   ]
  },
  {
   "cell_type": "code",
   "execution_count": 74,
   "id": "ff20f9c2-f124-421b-bc3b-f36309dcca4c",
   "metadata": {
    "tags": []
   },
   "outputs": [],
   "source": [
    "points.AssignSpatialReference(input_spatial_reference)"
   ]
  },
  {
   "cell_type": "markdown",
   "id": "3bd24324-63fd-4bbb-a028-d153090c94a9",
   "metadata": {},
   "source": [
    "Now let's create point geometry objects of our bounding points to add to our multipoint object"
   ]
  },
  {
   "cell_type": "code",
   "execution_count": 75,
   "id": "01189f3b-4b12-41ea-858d-8fd9cba8025a",
   "metadata": {
    "tags": []
   },
   "outputs": [],
   "source": [
    "top_left = ogr.Geometry(ogr.wkbPoint)\n",
    "top_left.AddPoint(*top_left_lat_long)\n",
    "bottom_right = ogr.Geometry(ogr.wkbPoint)\n",
    "bottom_right.AddPoint(*bottom_right_lat_long)"
   ]
  },
  {
   "cell_type": "markdown",
   "id": "651ff38a-218b-448c-bfb8-d203bfd9e721",
   "metadata": {},
   "source": [
    "Woah!  What's that * doing there?  The AddPoint function takes 2 arguments, an x coordiante and a y coordinate.  However, top_left_lat_long is a tuple.  If I were to call the function like this"
   ]
  },
  {
   "cell_type": "code",
   "execution_count": 76,
   "id": "94be9e15-dfdc-421e-8c62-88571ca03f2f",
   "metadata": {
    "tags": []
   },
   "outputs": [
    {
     "ename": "TypeError",
     "evalue": "Geometry_AddPoint() missing required argument 'y' (pos 3)",
     "output_type": "error",
     "traceback": [
      "\u001b[0;31m---------------------------------------------------------------------------\u001b[0m",
      "\u001b[0;31mTypeError\u001b[0m                                 Traceback (most recent call last)",
      "Cell \u001b[0;32mIn[76], line 1\u001b[0m\n\u001b[0;32m----> 1\u001b[0m \u001b[43mtop_left\u001b[49m\u001b[38;5;241;43m.\u001b[39;49m\u001b[43mAddPoint\u001b[49m\u001b[43m(\u001b[49m\u001b[43mtop_left_lat_long\u001b[49m\u001b[43m)\u001b[49m\n",
      "File \u001b[0;32m/opt/tljh/user/lib/python3.9/site-packages/osgeo/ogr.py:6101\u001b[0m, in \u001b[0;36mGeometry.AddPoint\u001b[0;34m(self, *args, **kwargs)\u001b[0m\n\u001b[1;32m   6099\u001b[0m \u001b[38;5;28;01mdef\u001b[39;00m \u001b[38;5;21mAddPoint\u001b[39m(\u001b[38;5;28mself\u001b[39m, \u001b[38;5;241m*\u001b[39margs, \u001b[38;5;241m*\u001b[39m\u001b[38;5;241m*\u001b[39mkwargs):\n\u001b[1;32m   6100\u001b[0m \u001b[38;5;250m    \u001b[39m\u001b[38;5;124;03m\"\"\"AddPoint(Geometry self, double x, double y, double z=0)\"\"\"\u001b[39;00m\n\u001b[0;32m-> 6101\u001b[0m     \u001b[38;5;28;01mreturn\u001b[39;00m \u001b[43m_ogr\u001b[49m\u001b[38;5;241;43m.\u001b[39;49m\u001b[43mGeometry_AddPoint\u001b[49m\u001b[43m(\u001b[49m\u001b[38;5;28;43mself\u001b[39;49m\u001b[43m,\u001b[49m\u001b[43m \u001b[49m\u001b[38;5;241;43m*\u001b[39;49m\u001b[43margs\u001b[49m\u001b[43m,\u001b[49m\u001b[43m \u001b[49m\u001b[38;5;241;43m*\u001b[39;49m\u001b[38;5;241;43m*\u001b[39;49m\u001b[43mkwargs\u001b[49m\u001b[43m)\u001b[49m\n",
      "\u001b[0;31mTypeError\u001b[0m: Geometry_AddPoint() missing required argument 'y' (pos 3)"
     ]
    }
   ],
   "source": [
    "top_left.AddPoint(top_left_lat_long)"
   ]
  },
  {
   "cell_type": "markdown",
   "id": "deec7202-42aa-4eec-a112-3dddd340e070",
   "metadata": {},
   "source": [
    "We get an error that I'm missing the y argument.  What's happening is that it tries to set the whole tuple as the x coordiante and nothing as the y coordinate.  I could have called the function like this:"
   ]
  },
  {
   "cell_type": "code",
   "execution_count": 77,
   "id": "df7cdb38-8208-4a0b-b5cd-fb3fe5e221a6",
   "metadata": {
    "tags": []
   },
   "outputs": [],
   "source": [
    "top_left.AddPoint(top_left_lat_long[0], top_left_lat_long[1])"
   ]
  },
  {
   "cell_type": "markdown",
   "id": "fc37387b-740e-43cb-8572-0bed6e7f8e68",
   "metadata": {},
   "source": [
    "but instead I prefaced the tuple with an astirix to indicate that the tuple should be \"unpacked\" with the first value set as the first argument, and the second as the second.  Don't worry about this, but it's something you can do, and a feature that I use, so I wanted to explain it.\n",
    "\n",
    "Now we have our points objects, we can add them to our multipoint object"
   ]
  },
  {
   "cell_type": "code",
   "execution_count": 78,
   "id": "4f87be1a-13d0-4dc6-a2e8-9be5a395c3a5",
   "metadata": {
    "tags": []
   },
   "outputs": [
    {
     "data": {
      "text/plain": [
       "0"
      ]
     },
     "execution_count": 78,
     "metadata": {},
     "output_type": "execute_result"
    }
   ],
   "source": [
    "points.AddGeometry(top_left)\n",
    "points.AddGeometry(bottom_right)"
   ]
  },
  {
   "cell_type": "markdown",
   "id": "04d3b0cc-1c4a-4434-a316-5e9d98f9d3b5",
   "metadata": {},
   "source": [
    "Our individual point objects are safely stored away in our points object, an can be recalled like so:"
   ]
  },
  {
   "cell_type": "code",
   "execution_count": 79,
   "id": "d1fbc901-3d8a-49aa-aae9-8b22a0eb7d51",
   "metadata": {
    "tags": []
   },
   "outputs": [
    {
     "data": {
      "text/plain": [
       "<osgeo.ogr.Geometry; proxy of <Swig Object of type 'OGRGeometryShadow *' at 0x7f3ed8d1fd50> >"
      ]
     },
     "execution_count": 79,
     "metadata": {},
     "output_type": "execute_result"
    }
   ],
   "source": [
    "points.GetGeometryRef(0)"
   ]
  },
  {
   "cell_type": "markdown",
   "id": "64167b75-7f26-4b72-90cb-bd96e2eeac6c",
   "metadata": {},
   "source": [
    "That will come in handy to find the coordinates after we transform them to the new projection.\n",
    "Next we need to create a spatial reference object that matches the projection of our raster."
   ]
  },
  {
   "cell_type": "code",
   "execution_count": 80,
   "id": "a20d9177-f89c-4c45-8dde-f3df7cac3ee7",
   "metadata": {
    "tags": []
   },
   "outputs": [],
   "source": [
    "raster_spatial_reference = osr.SpatialReference(\n",
    "    wkt=raster.GetProjection())"
   ]
  },
  {
   "cell_type": "markdown",
   "id": "747784e6-d26d-4389-9ae3-9ef74cc1f52d",
   "metadata": {},
   "source": [
    "Now we can transform our points to the new spatial reference"
   ]
  },
  {
   "cell_type": "code",
   "execution_count": 81,
   "id": "1555f3b8-c3de-4e07-8f27-768acf503133",
   "metadata": {
    "tags": []
   },
   "outputs": [
    {
     "data": {
      "text/plain": [
       "0"
      ]
     },
     "execution_count": 81,
     "metadata": {},
     "output_type": "execute_result"
    }
   ],
   "source": [
    "points.TransformTo(raster_spatial_reference)"
   ]
  },
  {
   "cell_type": "markdown",
   "id": "fef95068-c6cf-40c9-b3f6-3a07a549e3e8",
   "metadata": {
    "tags": []
   },
   "source": [
    "And now we can pull out our transformed points, and view their coordinates"
   ]
  },
  {
   "cell_type": "code",
   "execution_count": 88,
   "id": "3b573e34-341e-49da-a5f5-634293f81e73",
   "metadata": {
    "tags": []
   },
   "outputs": [
    {
     "name": "stdout",
     "output_type": "stream",
     "text": [
      "(465080.5794855079, 4439247.537483415)\n",
      "(483708.23085748643, 4421381.6205978)\n"
     ]
    }
   ],
   "source": [
    "top_left_transformed = points.GetGeometryRef(0)\n",
    "bottom_right_transformed = points.GetGeometryRef(1)\n",
    "top_left_utm = (top_left_transformed.GetX(),\n",
    "                top_left_transformed.GetY())\n",
    "bottom_right_utm = (bottom_right_transformed.GetX(),\n",
    "                    bottom_right_transformed.GetY())\n",
    "print(top_left_utm)\n",
    "print(bottom_right_utm)"
   ]
  },
  {
   "cell_type": "markdown",
   "id": "456cccf4-4012-42a2-8a03-d051d58e6077",
   "metadata": {},
   "source": [
    "Now we have everything we need to create our window for cropping"
   ]
  },
  {
   "cell_type": "code",
   "execution_count": 89,
   "id": "143f3f44-b51f-44c3-874d-5a253dfb0522",
   "metadata": {
    "tags": []
   },
   "outputs": [],
   "source": [
    "window = (top_left_transformed.GetX(),\n",
    "          top_left_transformed.GetY(),\n",
    "          bottom_right_transformed.GetX(),\n",
    "          bottom_right_transformed.GetY())"
   ]
  },
  {
   "cell_type": "markdown",
   "id": "1e5670d7-17be-47ea-ab0b-1efef19e1794",
   "metadata": {},
   "source": [
    "We will loop over the tiff files in the current directory, renaming and cropping as we go:"
   ]
  },
  {
   "cell_type": "code",
   "execution_count": 98,
   "id": "696614d6-a0d1-482b-87f6-4f13d6bef901",
   "metadata": {
    "tags": []
   },
   "outputs": [],
   "source": [
    "for file in os.listdir('.'):\n",
    "    name, extension = os.path.splitext(file)\n",
    "    if extension == \".TIF\":\n",
    "        band = name.split('_')[-1]\n",
    "        new_file_name = \"sample_landsat_%s.TIF\" % BAND_DESCRIPTION[band]\n",
    "        gdal.Translate(new_file_name, file, projWin= window)"
   ]
  }
 ],
 "metadata": {
  "kernelspec": {
   "display_name": "Python 3 (ipykernel)",
   "language": "python",
   "name": "python3"
  },
  "language_info": {
   "codemirror_mode": {
    "name": "ipython",
    "version": 3
   },
   "file_extension": ".py",
   "mimetype": "text/x-python",
   "name": "python",
   "nbconvert_exporter": "python",
   "pygments_lexer": "ipython3",
   "version": "3.9.7"
  }
 },
 "nbformat": 4,
 "nbformat_minor": 5
}
